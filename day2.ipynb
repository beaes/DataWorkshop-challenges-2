{
  "nbformat": 4,
  "nbformat_minor": 0,
  "metadata": {
    "colab": {
      "name": "day2.ipynb",
      "provenance": [],
      "collapsed_sections": [],
      "mount_file_id": "1gfUucxZOFmdsMiyQ8aFY6SUbT0TSU1Ln",
      "authorship_tag": "ABX9TyOUGl4XHpNsJkCo4FnSwWs9"
    },
    "kernelspec": {
      "name": "python3",
      "display_name": "Python 3"
    }
  },
  "cells": [
    {
      "cell_type": "code",
      "metadata": {
        "id": "m6JuoaYq2TQs",
        "colab_type": "code",
        "outputId": "531f3939-8014-424b-8be2-123df481be95",
        "colab": {
          "base_uri": "https://localhost:8080/",
          "height": 35
        }
      },
      "source": [
        "from keras.applications.resnet50 import ResNet50, decode_predictions, preprocess_input\n",
        "from keras.preprocessing import image\n",
        "import numpy as np \n",
        "\n",
        "import requests\n",
        "from io import BytesIO\n",
        "from PIL import Image"
      ],
      "execution_count": 0,
      "outputs": [
        {
          "output_type": "stream",
          "text": [
            "Using TensorFlow backend.\n"
          ],
          "name": "stderr"
        }
      ]
    },
    {
      "cell_type": "code",
      "metadata": {
        "id": "rzaJFjVc4lh3",
        "colab_type": "code",
        "outputId": "9d9f2bb2-796d-4d61-f55b-96bdbd860a2b",
        "colab": {
          "base_uri": "https://localhost:8080/",
          "height": 54
        }
      },
      "source": [
        "model = ResNet50(weights='imagenet')"
      ],
      "execution_count": 0,
      "outputs": [
        {
          "output_type": "stream",
          "text": [
            "Downloading data from https://github.com/fchollet/deep-learning-models/releases/download/v0.2/resnet50_weights_tf_dim_ordering_tf_kernels.h5\n",
            "102858752/102853048 [==============================] - 1s 0us/step\n"
          ],
          "name": "stdout"
        }
      ]
    },
    {
      "cell_type": "code",
      "metadata": {
        "id": "sGyM_rPL6_Nw",
        "colab_type": "code",
        "outputId": "4a41aef3-e338-4800-f43a-b57e4081a5a0",
        "colab": {
          "base_uri": "https://localhost:8080/",
          "height": 241
        }
      },
      "source": [
        "url_img = 'https://goldenrose.pl/product_picture/fit_in_1200x960/4f04521d1d5cae64634c2439f5239d05.jpg'\n",
        "\n",
        "response = requests.get(url_img)\n",
        "img = Image.open( BytesIO(response.content))\n",
        "img = img.resize( (224, 224))\n",
        "img"
      ],
      "execution_count": 0,
      "outputs": [
        {
          "output_type": "execute_result",
          "data": {
            "image/png": "[encoded data removed]",
            "text/plain": [
              "<PIL.Image.Image image mode=RGB size=224x224 at 0x7F4641CD72B0>"
            ]
          },
          "metadata": {
            "tags": []
          },
          "execution_count": 3
        }
      ]
    },
    {
      "cell_type": "code",
      "metadata": {
        "id": "9pB0iCsL8EfC",
        "colab_type": "code",
        "outputId": "4ffdc0b8-fab2-444a-f4a6-77ebfc1750d8",
        "colab": {
          "base_uri": "https://localhost:8080/",
          "height": 35
        }
      },
      "source": [
        "X = image.img_to_array(img)\n",
        "X = np.expand_dims(X, axis=0)\n",
        "X.shape"
      ],
      "execution_count": 0,
      "outputs": [
        {
          "output_type": "execute_result",
          "data": {
            "text/plain": [
              "(1, 224, 224, 3)"
            ]
          },
          "metadata": {
            "tags": []
          },
          "execution_count": 4
        }
      ]
    },
    {
      "cell_type": "code",
      "metadata": {
        "id": "Pv7SMxfz8L1m",
        "colab_type": "code",
        "colab": {}
      },
      "source": [
        "y_pred = model.predict(X)"
      ],
      "execution_count": 0,
      "outputs": []
    },
    {
      "cell_type": "code",
      "metadata": {
        "id": "DaK_s9Iv8PM5",
        "colab_type": "code",
        "outputId": "901ceb86-9656-4d23-be89-264cd3fc88b2",
        "colab": {
          "base_uri": "https://localhost:8080/",
          "height": 109
        }
      },
      "source": [
        "decode_predictions(y_pred, top=3)"
      ],
      "execution_count": 0,
      "outputs": [
        {
          "output_type": "stream",
          "text": [
            "Downloading data from https://storage.googleapis.com/download.tensorflow.org/data/imagenet_class_index.json\n",
            "40960/35363 [==================================] - 0s 0us/step\n"
          ],
          "name": "stdout"
        },
        {
          "output_type": "execute_result",
          "data": {
            "text/plain": [
              "[[('n03676483', 'lipstick', 0.98833615),\n",
              "  ('n02783161', 'ballpoint', 0.0071452917),\n",
              "  ('n04008634', 'projectile', 0.0012869593)]]"
            ]
          },
          "metadata": {
            "tags": []
          },
          "execution_count": 6
        }
      ]
    }
  ]
}